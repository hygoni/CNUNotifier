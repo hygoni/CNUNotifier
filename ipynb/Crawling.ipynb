{
 "cells": [
  {
   "cell_type": "code",
   "execution_count": 11,
   "metadata": {},
   "outputs": [],
   "source": [
    "def savingMySQL(NumList, TextList): #mySQL에 새 소식 저장하기\n",
    "    import pymysql\n",
    "    from openpyxl import Workbook\n",
    "    from openpyxl import load_workbook\n",
    "    conn = pymysql.connect(host='localhost',user='root',password='bottomup13579',db='cnunotifier')\n",
    "    cursor=conn.cursor()\n",
    "\n",
    "    cursor.execute(\"truncate cnu_com_notifier\")\n",
    "    try:\n",
    "        for i in range(len(NumList)):\n",
    "            with conn.cursor() as cursor:  #with as 문을 사용하면 close 하지 않아도 알아서 파일을close 해줌\n",
    "                sql = \"insert into cnu_com_notifier values (\"+NumList[i]+\", '\"+TextList[i]+ \"')\"\n",
    "                cursor.execute(sql)\n",
    "                conn.commit()\n",
    "    finally:\n",
    "        conn.close()\n",
    "    return"
   ]
  },
  {
   "cell_type": "code",
   "execution_count": 3,
   "metadata": {},
   "outputs": [],
   "source": [
    "def getNewsNumberList(): #소식 번호만 리스트로 받아오기\n",
    "    import pymysql\n",
    "    from openpyxl import Workbook\n",
    "    from openpyxl import load_workbook\n",
    "    conn = pymysql.connect(host='localhost',user='root',password='bottomup13579',db='cnunotifier')\n",
    "    cursor=conn.cursor()\n",
    "    try:\n",
    "        with conn.cursor() as cursor:  #with as 문을 사용하면 close 하지 않아도 알아서 파일을close 해줌\n",
    "            sql = \"select number from cnu_com_notifier order by number desc\"\n",
    "            cursor.execute(sql)\n",
    "            result_list=[]\n",
    "            for i in range(5):\n",
    "                result = cursor.fetchone()\n",
    "                result_list+=list(result)\n",
    "\n",
    "\n",
    "\n",
    "    finally:\n",
    "        conn.close()\n",
    "    return result_list"
   ]
  },
  {
   "cell_type": "code",
   "execution_count": 4,
   "metadata": {},
   "outputs": [],
   "source": [
    "def printNewNews(num): #num의 개수만큼 새 소식 받아오기\n",
    "\n",
    "    import pymysql\n",
    "    from openpyxl import Workbook\n",
    "    from openpyxl import load_workbook\n",
    "    conn = pymysql.connect(host='localhost',user='root',password='bottomup13579',db='cnunotifier')\n",
    "    cursor=conn.cursor()\n",
    "    try:\n",
    "        with conn.cursor() as cursor:  #with as 문을 사용하면 close 하지 않아도 알아서 파일을close 해줌\n",
    "            sql = \"select * from cnu_com_notifier order by number desc\"\n",
    "            cursor.execute(sql)\n",
    "            result_list=[]\n",
    "            for i in range(num):\n",
    "                result = cursor.fetchone()\n",
    "                result_list+=list(result)\n",
    "            print(result_list)\n",
    "    finally:\n",
    "        conn.close()\n",
    "    return"
   ]
  },
  {
   "cell_type": "code",
   "execution_count": 15,
   "metadata": {},
   "outputs": [],
   "source": [
    "def crawlingCNUcom():\n",
    "    from urllib.request import urlopen\n",
    "    from bs4 import BeautifulSoup\n",
    "    html=urlopen(\"https://computer.cnu.ac.kr/computer/notice/bachelor.do?mode=list&&articleLimit=10&article.offset=0\")\n",
    "    bsObj=BeautifulSoup(html.read(),\"html.parser\")\n",
    "    Num=bsObj.html.body.tbody.findAll(\"tr\")\n",
    "    NumList=[]\n",
    "    TextList=[]\n",
    "    for line in Num:\n",
    "        while len(NumList)<5:\n",
    "            if '공지' in line.find(\"td\",{\"class\":\"b-num-box\"}).get_text():\n",
    "                break\n",
    "            else:\n",
    "                NumList+=[line.find(\"td\",{\"class\":\"b-num-box\"}).get_text().strip()]\n",
    "                TextList+=[line.find(\"div\", {\"class\":\"b-title-box\"}).find('a').get_text().strip()]\n",
    "                \n",
    "                break\n",
    "    savingMySQL(NumList,TextList)\n",
    "  \n",
    "   \n",
    "    return"
   ]
  },
  {
   "cell_type": "code",
   "execution_count": 6,
   "metadata": {},
   "outputs": [],
   "source": [
    "def findNumOfNew(NewList,OldList):\n",
    "    if NewList[0]==OldList[0]:#List1이 새거\n",
    "        print('새로운 소식이 없습니다')\n",
    "        return 0\n",
    "    else:\n",
    "        News=str((int)(NewList[0])-(int)(OldList[0]))\n",
    "        print('새로운 소식이 '+News+'개 있습니다.')\n",
    "        return int(News)"
   ]
  },
  {
   "cell_type": "code",
   "execution_count": null,
   "metadata": {
    "scrolled": true
   },
   "outputs": [],
   "source": [
    "import time\n",
    "while True:\n",
    "    crawlingCNUcom()\n",
    "    OldList=getNewsNumberList()\n",
    "    \n",
    "    time.sleep(10)\n",
    "    \n",
    "    crawlingCNUcom()\n",
    "    NewList=getNewsNumberList()\n",
    "\n",
    "    \n",
    "    numOfNewNews=findNumOfNew(NewList,OldList)\n",
    "    if numOfNewNews is not 0:\n",
    "        printNewNews(numOfNewNews)\n",
    "    \n",
    "    "
   ]
  }
 ],
 "metadata": {
  "kernelspec": {
   "display_name": "Python 3",
   "language": "python",
   "name": "python3"
  },
  "language_info": {
   "codemirror_mode": {
    "name": "ipython",
    "version": 3
   },
   "file_extension": ".py",
   "mimetype": "text/x-python",
   "name": "python",
   "nbconvert_exporter": "python",
   "pygments_lexer": "ipython3",
   "version": "3.6.8"
  }
 },
 "nbformat": 4,
 "nbformat_minor": 2
}
