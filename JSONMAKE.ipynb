{
 "cells": [
  {
   "cell_type": "code",
   "execution_count": 53,
   "metadata": {},
   "outputs": [],
   "source": [
    "import json\n",
    "import requests\n",
    "from collections import OrderedDict\n",
    "\n",
    "API_KEY = open('../api.key', 'r+').readline().rstrip()\n",
    "API_URL = 'https://fcm.googleapis.com/fcm/send'\n",
    "\n",
    "def JSONMake(token, title, body):\n",
    "    file_data = OrderedDict()\n",
    "    notification={\"title\":title, \"body\":body}\n",
    "    file_data[\"to\"]=token\n",
    "    file_data['notification'] = notification\n",
    "    return json.dumps(file_data)"
   ]
  },
  {
   "cell_type": "code",
   "execution_count": 54,
   "metadata": {},
   "outputs": [],
   "source": [
    "def send(json):\n",
    "    r = requests.post(API_URL,\n",
    "                  data=json,\n",
    "                  headers={'Content-Type': 'application/json', 'Authorization' : API_KEY})\n",
    "    print(r.text)"
   ]
  },
  {
   "cell_type": "code",
   "execution_count": 58,
   "metadata": {},
   "outputs": [
    {
     "name": "stdout",
     "output_type": "stream",
     "text": [
      "{\"multicast_id\":5951633831018469961,\"success\":1,\"failure\":0,\"canonical_ids\":0,\"results\":[{\"message_id\":\"0:1563877714071016%e609af1cf9fd7ecd\"}]}\n",
      "ea1Y2nPXYk8:APA91bGx2l7SPZD-UFij0q9e1f0ACVzrHfQw9tHyqquTdiiB2sHSzyW5kRtYTxd9jjVccND7631xYaVMPcorOEne8txUF63g15Rwu6OQ_BmAux5ro-68Ye7fk6logxsziFX8zricS41a\n"
     ]
    }
   ],
   "source": [
    "send(make)\n",
    "print(token)"
   ]
  }
 ],
 "metadata": {
  "kernelspec": {
   "display_name": "Python 3",
   "language": "python",
   "name": "python3"
  },
  "language_info": {
   "codemirror_mode": {
    "name": "ipython",
    "version": 3
   },
   "file_extension": ".py",
   "mimetype": "text/x-python",
   "name": "python",
   "nbconvert_exporter": "python",
   "pygments_lexer": "ipython3",
   "version": "3.6.8"
  }
 },
 "nbformat": 4,
 "nbformat_minor": 2
}
