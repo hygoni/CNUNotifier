{
 "cells": [
  {
   "cell_type": "code",
   "execution_count": 6,
   "metadata": {},
   "outputs": [
    {
     "name": "stdout",
     "output_type": "stream",
     "text": [
      "{\n",
      "\t\"token\": 1,\n",
      "\t\"message\": {\n",
      "\t\t\"title\": 1,\n",
      "\t\t\"notification\": {\n",
      "\t\t\t\"title\": 1,\n",
      "\t\t\t\"body\": 1\n",
      "\t\t}\n",
      "\t},\n",
      "\t\"webpush\": {\n",
      "\t\t\"fcm_options\": {\n",
      "\t\t\t\"link\": 1\n",
      "\t\t}\n",
      "\t}\n",
      "}\n"
     ]
    }
   ],
   "source": [
    "import json\n",
    "from collections import OrderedDict\n",
    "def JSONMake(token, link, title, body):\n",
    "    file_data = OrderedDict()\n",
    "    notification={\"title\":title, \"body\":body}\n",
    "    file_data[\"token\"]=token\n",
    "    file_data[\"message\"]={'title':title, \"notification\":notification}\n",
    "    fcm_options={\"link\":link}\n",
    "    file_data[\"webpush\"]={\"fcm_options\":fcm_options}\n",
    "    \n",
    "\n",
    "    with open('words.json', 'w', encoding=\"utf-8\") as make_file:\n",
    "        json.dump(file_data, make_file, ensure_ascii=False, indent=\"\\t\")\n",
    "        \n"
   ]
  }
 ],
 "metadata": {
  "kernelspec": {
   "display_name": "Python 3",
   "language": "python",
   "name": "python3"
  },
  "language_info": {
   "codemirror_mode": {
    "name": "ipython",
    "version": 3
   },
   "file_extension": ".py",
   "mimetype": "text/x-python",
   "name": "python",
   "nbconvert_exporter": "python",
   "pygments_lexer": "ipython3",
   "version": "3.7.1"
  }
 },
 "nbformat": 4,
 "nbformat_minor": 2
}
