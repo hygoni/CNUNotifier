{
 "cells": [
  {
   "cell_type": "code",
   "execution_count": 38,
   "metadata": {},
   "outputs": [
    {
     "name": "stdout",
     "output_type": "stream",
     "text": [
      "{\"to\": \"ea1Y2nPXYk8:APA91bGx2l7SPZD-UFij0q9e1f0ACVzrHfQw9tHyqquTdiiB2sHSzyW5kRtYTxd9jjVccND7631xYaVMPcorOEne8txUF63g15Rwu6OQ_BmAux5ro-68Ye7fk6logxsziFX8zricS41a\", \"notification\": {\"title\": \"\\uacf5\\uc9c0\\uc654\\uc2b4\", \"body\": \"\\ub0b4\\uc6a9\"}}\n"
     ]
    }
   ],
   "source": [
    "import json\n",
    "import requests\n",
    "from collections import OrderedDict\n",
    "\n",
    "API_KEY = 'key=AAAADTgtg7E:APA91bHDBxYW9AEJT1BnDwbitDLrt1PnTCuwn_vuI8zHcaal8dpZ7YFj7DAgeVBxvLkVCPlFalvHJIWNvTbQiW5CsmCMBzty_1VIQpJaDvS0v71IbRUAnZbUvFeOIahbw36EJDRgsTHk'\n",
    "API_URL = 'https://fcm.googleapis.com/fcm/send'\n",
    "\n",
    "def JSONMake(token, title, body):\n",
    "    file_data = OrderedDict()\n",
    "    notification={\"title\":title, \"body\":body}\n",
    "    file_data[\"to\"]=token\n",
    "    file_data['notification'] = notification\n",
    "    return json.dumps(file_data)\n",
    "\n",
    "token = 'ea1Y2nPXYk8:APA91bGx2l7SPZD-UFij0q9e1f0ACVzrHfQw9tHyqquTdiiB2sHSzyW5kRtYTxd9jjVccND7631xYaVMPcorOEne8txUF63g15Rwu6OQ_BmAux5ro-68Ye7fk6logxsziFX8zricS41a'\n",
    "\n",
    "    \n",
    "make = JSONMake(token, '공지왔슴', '내용')\n",
    "print(make)"
   ]
  },
  {
   "cell_type": "code",
   "execution_count": 39,
   "metadata": {},
   "outputs": [
    {
     "name": "stdout",
     "output_type": "stream",
     "text": [
      "{\"multicast_id\":5408406647177428910,\"success\":1,\"failure\":0,\"canonical_ids\":0,\"results\":[{\"message_id\":\"0:1563874317263855%e609af1cf9fd7ecd\"}]}\n"
     ]
    }
   ],
   "source": [
    "r = requests.post('https://fcm.googleapis.com/fcm/send',\n",
    "                  data=make,\n",
    "                  headers={'Content-Type': 'application/json', 'Authorization' : API_KEY})\n",
    "print(r.text)"
   ]
  },
  {
   "cell_type": "code",
   "execution_count": null,
   "metadata": {},
   "outputs": [],
   "source": []
  }
 ],
 "metadata": {
  "kernelspec": {
   "display_name": "Python 3",
   "language": "python",
   "name": "python3"
  },
  "language_info": {
   "codemirror_mode": {
    "name": "ipython",
    "version": 3
   },
   "file_extension": ".py",
   "mimetype": "text/x-python",
   "name": "python",
   "nbconvert_exporter": "python",
   "pygments_lexer": "ipython3",
   "version": "3.6.8"
  }
 },
 "nbformat": 4,
 "nbformat_minor": 2
}
