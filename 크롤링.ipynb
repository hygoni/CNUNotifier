{
 "cells": [
  {
   "cell_type": "code",
   "execution_count": 6,
   "metadata": {},
   "outputs": [],
   "source": [
    "def 컴공사이트():\n",
    "    from urllib.request import urlopen\n",
    "    from bs4 import BeautifulSoup\n",
    "    html=urlopen(\"http://computer.cnu.ac.kr/index.php?mid=notice&page=1\")\n",
    "    bsObj=BeautifulSoup(html.read(),\"html.parser\")\n",
    "    Num=bsObj.html.body.tbody.findAll(\"tr\")\n",
    "    NumList=[]\n",
    "    TextList=[]\n",
    "    AuList=[]\n",
    "    for line in Num:\n",
    "        while len(NumList)<5:\n",
    "            if '공지' in line.find(\"td\",{\"class\":\"no\"}).get_text():\n",
    "                break\n",
    "            else:\n",
    "                NumList+=[line.find(\"td\",{\"class\":\"no\"}).get_text().strip()]\n",
    "                TextList+=[line.find(\"td\", {\"class\":\"title\"}).get_text().strip()]\n",
    "                AuList+=[line.find(\"td\", {\"class\":\"author\"}).get_text().strip()]\n",
    "                break\n",
    "    f=open(\".\\\\모든 정보 리스트.txt\",\"w\")\n",
    "    for i in range(len(NumList)):\n",
    "        f.write(NumList[i]+' '+TextList[i]+' '+AuList[i]+'\\n')\n",
    "    f.close()\n",
    "    f=open(\".\\\\번호 리스트.txt\",\"w\")\n",
    "    for i in range(len(NumList)):\n",
    "        f.write(NumList[i]+'\\n')\n",
    "    f.close()\n",
    "    return"
   ]
  },
  {
   "cell_type": "code",
   "execution_count": 2,
   "metadata": {},
   "outputs": [],
   "source": [
    "def findNumOfNew(NewList,OldList):\n",
    "    if NewList[0]==OldList[0]:#List1이 새거\n",
    "        print('새로운 소식이 없습니다')\n",
    "        return 0\n",
    "    else:\n",
    "        News=str((int)(NewList[0])-(int)(OldList[0]))\n",
    "        print('새로운 소식이 '+News+'개 있습니다.')\n",
    "        return int(News)"
   ]
  },
  {
   "cell_type": "code",
   "execution_count": 8,
   "metadata": {},
   "outputs": [],
   "source": [
    "def savingNews(NewList,numOfNew):\n",
    "    if numOfNew is not 0:\n",
    "        f=open(\".\\\\새로운 소식을 저장하는 파일.txt\",'w')\n",
    "        for i in range(numOfNew):\n",
    "            f.write(NewList[i])\n",
    "        \n",
    "        f.close()\n",
    "        return\n",
    "    else:\n",
    "        f=open(\".\\\\새로운 소식을 저장하는 파일.txt\",'w')\n",
    "        f.write('없도')\n",
    "        f.close()\n",
    "        return\n",
    "        "
   ]
  },
  {
   "cell_type": "code",
   "execution_count": null,
   "metadata": {},
   "outputs": [
    {
     "name": "stdout",
     "output_type": "stream",
     "text": [
      "새로운 소식이 없습니다\n",
      "0\n",
      "새로운 소식이 없습니다\n",
      "0\n",
      "새로운 소식이 없습니다\n",
      "0\n",
      "새로운 소식이 없습니다\n",
      "0\n",
      "새로운 소식이 없습니다\n",
      "0\n",
      "새로운 소식이 없습니다\n",
      "0\n",
      "새로운 소식이 없습니다\n",
      "0\n",
      "새로운 소식이 없습니다\n",
      "0\n",
      "새로운 소식이 없습니다\n",
      "0\n",
      "새로운 소식이 없습니다\n",
      "0\n",
      "새로운 소식이 없습니다\n",
      "0\n",
      "새로운 소식이 없습니다\n",
      "0\n",
      "새로운 소식이 없습니다\n",
      "0\n",
      "새로운 소식이 없습니다\n",
      "0\n",
      "새로운 소식이 없습니다\n",
      "0\n",
      "새로운 소식이 없습니다\n",
      "0\n",
      "새로운 소식이 없습니다\n",
      "0\n",
      "새로운 소식이 없습니다\n",
      "0\n"
     ]
    }
   ],
   "source": [
    "import time\n",
    "while True:\n",
    "    컴공사이트()\n",
    "    f=open(\".\\\\번호 리스트.txt\",\"r\")\n",
    "    OldList=f.readlines()\n",
    "    f.close()\n",
    "    \n",
    "    time.sleep(2)\n",
    "    \n",
    "    컴공사이트()\n",
    "    \n",
    "    f=open(\".\\\\번호 리스트.txt\",\"r\")\n",
    "    NewList=f.readlines()\n",
    "    f.close()\n",
    "    \n",
    "    numOfNewNews=findNumOfNew(NewList,OldList)\n",
    "    \n",
    "    print(numOfNewNews)\n",
    "    savingNews(NewList,numOfNewNews)\n",
    "    \n",
    "    #numOfNews 만큼 보내rl\n"
   ]
  },
  {
   "cell_type": "code",
   "execution_count": null,
   "metadata": {},
   "outputs": [],
   "source": []
  },
  {
   "cell_type": "code",
   "execution_count": null,
   "metadata": {},
   "outputs": [],
   "source": []
  }
 ],
 "metadata": {
  "kernelspec": {
   "display_name": "Python 3",
   "language": "python",
   "name": "python3"
  }
 },
 "nbformat": 4,
 "nbformat_minor": 2
}
