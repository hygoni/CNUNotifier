{
 "cells": [
  {
   "cell_type": "code",
   "execution_count": 22,
   "metadata": {},
   "outputs": [],
   "source": [
    "def savingMySQL(NumList, TextList, AuList): #mySQL에 새 소식 저장하기\n",
    "    import pymysql\n",
    "    from openpyxl import Workbook\n",
    "    from openpyxl import load_workbook\n",
    "    conn = pymysql.connect(host='localhost',user='root',password='123456',db='cnunotifier')\n",
    "    cursor=conn.cursor()\n",
    "\n",
    "    cursor.execute(\"truncate cnu_com_notifier\")\n",
    "    try:\n",
    "        for i in range(len(NumList)):\n",
    "            with conn.cursor() as cursor:  #with as 문을 사용하면 close 하지 않아도 알아서 파일을close 해줌\n",
    "                sql = \"insert into cnu_com_notifier values (\"+NumList[i]+\", '\"+TextList[i]+ \"', '\"+AuList[i]+\"')\"\n",
    "                cursor.execute(sql)\n",
    "                conn.commit()\n",
    "    finally:\n",
    "        conn.close()\n",
    "    return"
   ]
  },
  {
   "cell_type": "code",
   "execution_count": 28,
   "metadata": {},
   "outputs": [],
   "source": [
    "def getNewsNumberList(): #소식 번호만 리스트로 받아오기\n",
    "    import pymysql\n",
    "    from openpyxl import Workbook\n",
    "    from openpyxl import load_workbook\n",
    "    conn = pymysql.connect(host='localhost',user='root',password='123456',db='cnunotifier')\n",
    "    cursor=conn.cursor()\n",
    "    try:\n",
    "        with conn.cursor() as cursor:  #with as 문을 사용하면 close 하지 않아도 알아서 파일을close 해줌\n",
    "            sql = \"select number from cnu_com_notifier order by number desc\"\n",
    "            cursor.execute(sql)\n",
    "            result_list=[]\n",
    "            for i in range(5):\n",
    "                result = cursor.fetchone()\n",
    "                result_list+=list(result)\n",
    "\n",
    "\n",
    "\n",
    "    finally:\n",
    "        conn.close()\n",
    "    return result_list"
   ]
  },
  {
   "cell_type": "code",
   "execution_count": 29,
   "metadata": {},
   "outputs": [],
   "source": [
    "def printNewNews(num): #num의 개수만큼 새 소식 받아오기\n",
    "\n",
    "    import pymysql\n",
    "    from openpyxl import Workbook\n",
    "    from openpyxl import load_workbook\n",
    "    conn = pymysql.connect(host='localhost',user='root',password='123456',db='cnunotifier')\n",
    "    cursor=conn.cursor()\n",
    "    try:\n",
    "        with conn.cursor() as cursor:  #with as 문을 사용하면 close 하지 않아도 알아서 파일을close 해줌\n",
    "            sql = \"select * from cnu_com_notifier order by number desc\"\n",
    "            cursor.execute(sql)\n",
    "            result_list=[]\n",
    "            for i in range(num):\n",
    "                result = cursor.fetchone()\n",
    "                result_list+=list(result)\n",
    "            print(result_list)\n",
    "    finally:\n",
    "        conn.close()\n",
    "    return"
   ]
  },
  {
   "cell_type": "code",
   "execution_count": 25,
   "metadata": {},
   "outputs": [],
   "source": [
    "def crawlingCNUcom():\n",
    "    from urllib.request import urlopen\n",
    "    from bs4 import BeautifulSoup\n",
    "    html=urlopen(\"http://computer.cnu.ac.kr/index.php?mid=notice&page=1\")\n",
    "    bsObj=BeautifulSoup(html.read(),\"html.parser\")\n",
    "    Num=bsObj.html.body.tbody.findAll(\"tr\")\n",
    "    NumList=[]\n",
    "    TextList=[]\n",
    "    AuList=[]\n",
    "    for line in Num:\n",
    "        while len(NumList)<5:\n",
    "            if '공지' in line.find(\"td\",{\"class\":\"no\"}).get_text():\n",
    "                break\n",
    "            else:\n",
    "                NumList+=[line.find(\"td\",{\"class\":\"no\"}).get_text().strip()]\n",
    "                TextList+=[line.find(\"td\", {\"class\":\"title\"}).get_text().strip()]\n",
    "                AuList+=[line.find(\"td\", {\"class\":\"author\"}).get_text().strip()]\n",
    "                \n",
    "                break\n",
    "    savingMySQL(NumList,TextList,AuList)\n",
    "  \n",
    "   \n",
    "    return"
   ]
  },
  {
   "cell_type": "code",
   "execution_count": 26,
   "metadata": {},
   "outputs": [],
   "source": [
    "def findNumOfNew(NewList,OldList):\n",
    "    if NewList[0]==OldList[0]:#List1이 새거\n",
    "        print('새로운 소식이 없습니다')\n",
    "        return 0\n",
    "    else:\n",
    "        News=str((int)(NewList[0])-(int)(OldList[0]))\n",
    "        print('새로운 소식이 '+News+'개 있습니다.')\n",
    "        return int(News)"
   ]
  },
  {
   "cell_type": "code",
   "execution_count": 30,
   "metadata": {},
   "outputs": [
    {
     "ename": "KeyboardInterrupt",
     "evalue": "",
     "output_type": "error",
     "traceback": [
      "\u001b[1;31m---------------------------------------------------------------------------\u001b[0m",
      "\u001b[1;31mKeyboardInterrupt\u001b[0m                         Traceback (most recent call last)",
      "\u001b[1;32m<ipython-input-30-028219ff7528>\u001b[0m in \u001b[0;36m<module>\u001b[1;34m\u001b[0m\n\u001b[0;32m      4\u001b[0m     \u001b[0mOldList\u001b[0m\u001b[1;33m=\u001b[0m\u001b[0mgetNewsNumberList\u001b[0m\u001b[1;33m(\u001b[0m\u001b[1;33m)\u001b[0m\u001b[1;33m\u001b[0m\u001b[1;33m\u001b[0m\u001b[0m\n\u001b[0;32m      5\u001b[0m \u001b[1;33m\u001b[0m\u001b[0m\n\u001b[1;32m----> 6\u001b[1;33m     \u001b[0mtime\u001b[0m\u001b[1;33m.\u001b[0m\u001b[0msleep\u001b[0m\u001b[1;33m(\u001b[0m\u001b[1;36m60\u001b[0m\u001b[1;33m)\u001b[0m\u001b[1;33m\u001b[0m\u001b[1;33m\u001b[0m\u001b[0m\n\u001b[0m\u001b[0;32m      7\u001b[0m \u001b[1;33m\u001b[0m\u001b[0m\n\u001b[0;32m      8\u001b[0m     \u001b[0mcrawlingCNUcom\u001b[0m\u001b[1;33m(\u001b[0m\u001b[1;33m)\u001b[0m\u001b[1;33m\u001b[0m\u001b[1;33m\u001b[0m\u001b[0m\n",
      "\u001b[1;31mKeyboardInterrupt\u001b[0m: "
     ]
    }
   ],
   "source": [
    "import time\n",
    "while True:\n",
    "    crawlingCNUcom()\n",
    "    OldList=getNewsNumberList()\n",
    "    \n",
    "    time.sleep(60)\n",
    "    \n",
    "    crawlingCNUcom()\n",
    "    NewList=getNewsNumberList()\n",
    "\n",
    "    \n",
    "    numOfNewNews=findNumOfNew(NewList,OldList)\n",
    "    if numOfNewNews is not 0:\n",
    "        printNewNews(numOfNewNews)\n",
    "    \n",
    "    "
   ]
  }
 ],
 "metadata": {
  "kernelspec": {
   "display_name": "Python 3",
   "language": "python",
   "name": "python3"
  },
  "language_info": {
   "codemirror_mode": {
    "name": "ipython",
    "version": 3
   },
   "file_extension": ".py",
   "mimetype": "text/x-python",
   "name": "python",
   "nbconvert_exporter": "python",
   "pygments_lexer": "ipython3",
   "version": "3.7.1"
  }
 },
 "nbformat": 4,
 "nbformat_minor": 2
}
